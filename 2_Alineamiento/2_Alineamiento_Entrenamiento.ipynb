{
 "cells": [
  {
   "cell_type": "code",
   "execution_count": 1,
   "id": "51e6900e",
   "metadata": {},
   "outputs": [],
   "source": [
    "use strict;\n",
    "use warnings;\n",
    "use Data::Dump qw(dump);\n",
    "use d2l;"
   ]
  },
  {
   "cell_type": "markdown",
   "id": "3c616344",
   "metadata": {},
   "source": [
    "## 1.3 Clasificación de las diferencias entre corpus (agregación, eliminación y modificación de palabras)"
   ]
  },
  {
   "cell_type": "markdown",
   "id": "1f264c43",
   "metadata": {},
   "source": [
    "### 1.3.1 Comparación del número de filas entre corpus"
   ]
  },
  {
   "cell_type": "code",
   "execution_count": 2,
   "id": "aa73bf7c",
   "metadata": {},
   "outputs": [],
   "source": [
    "sub leer_archivo {\n",
    "    my $nombre_archivo = shift;\n",
    "\n",
    "    open(my $archivo, '<:encoding(UTF-8)', $nombre_archivo) or die \"No se pudo abrir el archivo '$nombre_archivo': $!\";\n",
    "    my @filas;\n",
    "    while (my $linea = <$archivo>) {\n",
    "        chomp($linea);  # Eliminar el carácter de nueva línea si es necesario\n",
    "        push @filas, $linea;\n",
    "    }\n",
    "    close($archivo);\n",
    "\n",
    "    return \\@filas;\n",
    "}"
   ]
  },
  {
   "cell_type": "code",
   "execution_count": 3,
   "id": "f763f480",
   "metadata": {},
   "outputs": [
    {
     "data": {
      "text/plain": [
       "ARRAY(0xca415e0)"
      ]
     },
     "execution_count": 3,
     "metadata": {},
     "output_type": "execute_result"
    }
   ],
   "source": [
    "my $corpus_OCR = leer_archivo('../../TesisModelo1/0_Corpus/1_Entrenamiento/corpus_OCR_preprocesada.txt');\n",
    "my $corpus_REF = leer_archivo('../../TesisModelo1/0_Corpus/1_Entrenamiento/corpus_REF_preprocesada.txt');"
   ]
  },
  {
   "cell_type": "code",
   "execution_count": 4,
   "id": "9a8b07d5",
   "metadata": {},
   "outputs": [
    {
     "name": "stdout",
     "output_type": "stream",
     "text": [
      "Los archivos tienen el mismo número de filas: 237097"
     ]
    },
    {
     "data": {
      "text/plain": [
       "1"
      ]
     },
     "execution_count": 4,
     "metadata": {},
     "output_type": "execute_result"
    }
   ],
   "source": [
    "if (scalar(@$corpus_OCR) != scalar(@$corpus_REF)) {\n",
    "    die \"Los archivos no tienen el mismo número de filas\";\n",
    "} else {\n",
    "    print \"Los archivos tienen el mismo número de filas: \" . scalar(@$corpus_OCR);\n",
    "}"
   ]
  },
  {
   "cell_type": "markdown",
   "id": "0b7ba8da",
   "metadata": {},
   "source": [
    "### 1.3.3 Smith-Waterman Algorithm"
   ]
  },
  {
   "cell_type": "code",
   "execution_count": 5,
   "id": "65b9a6f6",
   "metadata": {},
   "outputs": [
    {
     "name": "stdout",
     "output_type": "stream",
     "text": [
      "Duracion: 11106.9315848351s.\n"
     ]
    },
    {
     "data": {
      "text/plain": [
       "1"
      ]
     },
     "execution_count": 5,
     "metadata": {},
     "output_type": "execute_result"
    }
   ],
   "source": [
    "my $tiempo = new d2l::Timer();\n",
    "\n",
    "open(my $archivo_SW, '>:encoding(UTF-8)', '../../Tesis/0_Corpus/2_Entrenamiento/Smith-Waterman/corpus_SW.txt') or die \"No se puede abrir el archivo corpus_SW.txt: $!\";\n",
    "\n",
    "for (my $i=0; $i<scalar(@$corpus_OCR); $i++) {\n",
    "    my $linea1 = $corpus_OCR->[$i];\n",
    "    my $linea2 = $corpus_REF->[$i];\n",
    "    \n",
    "    my ($alineamiento_SW1, $alineamiento_SW2) = d2l->smith_waterman($linea1, $linea2);\n",
    "\n",
    "    print $archivo_SW \"$alineamiento_SW1\\n\";\n",
    "    print $archivo_SW \"$alineamiento_SW2\\n\";\n",
    "    print $archivo_SW \"\\n\";\n",
    "}\n",
    "\n",
    "close($archivo_SW);\n",
    "\n",
    "print \"Duracion: \", $tiempo->stop(), \"s.\\n\";"
   ]
  },
  {
   "cell_type": "markdown",
   "id": "8f314a3d",
   "metadata": {},
   "source": [
    "### 1.3.2 Needleman-Wunsch Algorithm"
   ]
  },
  {
   "cell_type": "code",
   "execution_count": 8,
   "id": "e30065bb",
   "metadata": {},
   "outputs": [
    {
     "name": "stdout",
     "output_type": "stream",
     "text": [
      "Duracion: 10564.9238169193s.\n"
     ]
    },
    {
     "data": {
      "text/plain": [
       "1"
      ]
     },
     "execution_count": 8,
     "metadata": {},
     "output_type": "execute_result"
    }
   ],
   "source": [
    "my $tiempo = new d2l::Timer();\n",
    "\n",
    "open(my $archivo_NW, '>:encoding(UTF-8)', '../../Tesis/0_Corpus/2_Entrenamiento/Needleman-Wunsch/corpus_NW.txt') or die \"No se puede abrir el archivo corpus_NW.txt: $!\";\n",
    "\n",
    "for (my $i=0; $i<scalar(@$corpus_OCR); $i++) {\n",
    "    my $linea1 = $corpus_OCR->[$i];\n",
    "    my $linea2 = $corpus_REF->[$i];\n",
    "    \n",
    "    my ($alineamiento_NW1, $alineamiento_NW2) = d2l->needleman_wunsch($linea1, $linea2);\n",
    "\n",
    "    print $archivo_NW \"$alineamiento_NW1\\n\";\n",
    "    print $archivo_NW \"$alineamiento_NW2\\n\";\n",
    "    print $archivo_NW \"\\n\";\n",
    "}\n",
    "\n",
    "close($archivo_NW);\n",
    "\n",
    "print \"Duracion: \", $tiempo->stop(), \"s.\\n\";"
   ]
  },
  {
   "cell_type": "markdown",
   "id": "054890d8",
   "metadata": {},
   "source": [
    "### 1.3.4 Ukkonen Algorithm"
   ]
  },
  {
   "cell_type": "code",
   "execution_count": 9,
   "id": "a78a5ccc",
   "metadata": {},
   "outputs": [
    {
     "name": "stdout",
     "output_type": "stream",
     "text": [
      "Duracion: 6928.72783303261s.\n"
     ]
    },
    {
     "data": {
      "text/plain": [
       "1"
      ]
     },
     "execution_count": 9,
     "metadata": {},
     "output_type": "execute_result"
    }
   ],
   "source": [
    "my $tiempo = new d2l::Timer();\n",
    "\n",
    "open(my $archivo_Uk, '>:encoding(UTF-8)', '../../Tesis/0_Corpus/2_Entrenamiento/Ukkonen/corpus_Uk.txt') or die \"No se puede abrir el archivo corpus_Uk.txt: $!\";\n",
    "\n",
    "for (my $i=0; $i<scalar(@$corpus_OCR); $i++) {\n",
    "    my $linea1 = $corpus_OCR->[$i];\n",
    "    my $linea2 = $corpus_REF->[$i];\n",
    "    \n",
    "    my ($distancia, $alineamiento_Uk1, $alineamiento_Uk2) = d2l->ukkonen($linea1, $linea2);\n",
    "\n",
    "    print $archivo_Uk \"$distancia\\n\";\n",
    "    print $archivo_Uk \"$alineamiento_Uk1\\n\";\n",
    "    print $archivo_Uk \"$alineamiento_Uk2\\n\";\n",
    "    print $archivo_Uk \"\\n\";\n",
    "}\n",
    "\n",
    "close($archivo_Uk);\n",
    "\n",
    "print \"Duracion: \", $tiempo->stop(), \"s.\\n\";"
   ]
  },
  {
   "cell_type": "code",
   "execution_count": null,
   "id": "c4698a97",
   "metadata": {},
   "outputs": [],
   "source": []
  }
 ],
 "metadata": {
  "kernelspec": {
   "display_name": "IPerl 0.011",
   "language": "perl",
   "name": "iperl"
  },
  "language_info": {
   "file_extension": ".pl",
   "mimetype": "text/x-perl",
   "name": "perl",
   "version": "5.32.1"
  }
 },
 "nbformat": 4,
 "nbformat_minor": 5
}
