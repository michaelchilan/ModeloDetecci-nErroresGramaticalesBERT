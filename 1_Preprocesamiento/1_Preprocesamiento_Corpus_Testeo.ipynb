{
 "cells": [
  {
   "cell_type": "markdown",
   "id": "8f7f5a33",
   "metadata": {},
   "source": [
    "# 0. MÓDULOS USADOS"
   ]
  },
  {
   "cell_type": "code",
   "execution_count": 1,
   "id": "89abf719",
   "metadata": {},
   "outputs": [],
   "source": [
    "use strict;\n",
    "use warnings;\n",
    "use Data::Dump qw(dump);\n",
    "use d2l;\n",
    "use Chart::Plotly::Trace::Bar;\n",
    "use Chart::Plotly::Plot;\n",
    "\n",
    "IPerl->load_plugin('Chart::Plotly');"
   ]
  },
  {
   "cell_type": "markdown",
   "id": "53c981d4",
   "metadata": {},
   "source": [
    "# 1. LECTURA Y PREPROCESAMIENTO PARA LA ALINEACION DE LOS CORPUS"
   ]
  },
  {
   "cell_type": "markdown",
   "id": "d52bcd75",
   "metadata": {},
   "source": [
    "## 1.1 Lectura de archivos\n",
    "Con la función leer_archivo se leerá cada uno de los corpus (OCR y REF) para el desarrollo del proyecto.\n",
    "El uso de shift es para recibir parámetros en una función para extraer y eliminar el primer elemento de la lista de argumentos (necesario cuando se procesa parámetros de manera secuencial, obteniendolos uno por uno)\n",
    "Encoding(UTF-8) sirve para garantizar que los caracteres se lean correctamente si el archivo contiene caracteres no ASCII.\n",
    "Retorna un map que devuelve una nueva lista con los cambios pedidos por los regex.\n",
    "1. Regex elimina espacios en blanco\n",
    "2. Luego se aplica un regex para cambiar los caracteres no alfanuméricos por espacios en blanco con el fin de formar palabras solo con caracteres alfanuméricos\n",
    "3. Regex que elimina espacios al principio y al final de cada linea\n",
    "4. Conversión de caracteres a minúsculas\n",
    "5. grep filtra lineas vacias o que contengan solo espacios en blanco"
   ]
  },
  {
   "cell_type": "markdown",
   "id": "874e407c",
   "metadata": {},
   "source": [
    "### 1.1.1 Lectura data original"
   ]
  },
  {
   "cell_type": "code",
   "execution_count": 2,
   "id": "68593b84",
   "metadata": {},
   "outputs": [],
   "source": [
    "sub leer_archivo {\n",
    "    my $archivo = shift;\n",
    "\n",
    "    open my $fh, '<:encoding(UTF-8)', $archivo or die \"ERROR: no se pudo abrir el archivo '$archivo'\\n\";\n",
    "    my @lineas;\n",
    "    \n",
    "    while (my $linea = <$fh>) {\n",
    "        chomp $linea;\n",
    "        $linea =~ s/\\s//g;\n",
    "        $linea =~ s/^\\W+|\\W+$|\\W+/ /g;\n",
    "        $linea =~ s/^\\s+|\\s+$//g;\n",
    "        push @lineas, lc($linea) unless $linea =~ /^\\s+$/;\n",
    "    }\n",
    "    close $fh;\n",
    "    \n",
    "    return \\@lineas;\n",
    "}"
   ]
  },
  {
   "cell_type": "markdown",
   "id": "14cd92a7",
   "metadata": {},
   "source": [
    "## 1.2 Asignación de variables con el contenido de cada corpus ya preprocesado"
   ]
  },
  {
   "cell_type": "code",
   "execution_count": 3,
   "id": "2319c274",
   "metadata": {},
   "outputs": [
    {
     "name": "stdout",
     "output_type": "stream",
     "text": [
      "Duracion: 1.08344507217407s.\n"
     ]
    },
    {
     "data": {
      "text/plain": [
       "1"
      ]
     },
     "execution_count": 3,
     "metadata": {},
     "output_type": "execute_result"
    }
   ],
   "source": [
    "my $tiempo = new d2l::Timer();\n",
    "\n",
    "my $corpus_OCR = leer_archivo(\"../../TesisModelo1/0_Corpus/0_Testeo/dev.tok.fr\");\n",
    "my $corpus_REF = leer_archivo(\"../../TesisModelo1/0_Corpus/0_Testeo/dev.tok.en\");\n",
    "\n",
    "print \"Duracion: \", $tiempo->stop(), \"s.\\n\";"
   ]
  },
  {
   "cell_type": "markdown",
   "id": "6c28cda1",
   "metadata": {},
   "source": [
    "## 1.3 Revisión y segundo preprocesamiento de los corpus"
   ]
  },
  {
   "cell_type": "markdown",
   "id": "2e88ce05",
   "metadata": {},
   "source": [
    "### 1.3.1 Comprobación de la cadena más larga en los dos corpus"
   ]
  },
  {
   "cell_type": "code",
   "execution_count": 4,
   "id": "833c85af",
   "metadata": {},
   "outputs": [],
   "source": [
    "sub oracion_mas_larga {\n",
    "  my $corpus = shift;\n",
    "\n",
    "  my $oracion_mas_larga = \"\";\n",
    "  my $longitud_maxima = 0;\n",
    "\n",
    "  foreach my $oracion (@{$corpus}) {\n",
    "    my @palabras = split(' ', $oracion);\n",
    "    my $longitud_oracion = scalar @palabras;\n",
    "\n",
    "    if ($longitud_oracion > $longitud_maxima) {\n",
    "      $longitud_maxima = $longitud_oracion;\n",
    "      $oracion_mas_larga = $oracion;\n",
    "    }\n",
    "  }\n",
    "\n",
    "  return $oracion_mas_larga, $longitud_maxima;\n",
    "}"
   ]
  },
  {
   "cell_type": "code",
   "execution_count": 5,
   "id": "4e5f7379",
   "metadata": {},
   "outputs": [
    {
     "name": "stdout",
     "output_type": "stream",
     "text": [
      "La oración más larga en el archivo OCR es:\n",
      "\n",
      "i do most of what i do through a macbook pro 15 macbook pro the last of the models with beveled keys i can t replace it because i can t type on the flat keys i ve got a typing speed of around 120 words per minute on a beveled keyboard but the chicklet keys on newer macs force my pinkies out too far the imac screens are too high and shiny for me so i m pretty well locked into the laptop for any intensive work i use a 20 imac 11 2 for skype movie watching and audio video editing\n",
      "\n",
      "Número de palabras: 103\n",
      "\n",
      "\n",
      "La oración más larga en el archivo REF es:\n",
      "\n",
      "i do most of what i do through a macbook pro 15 macbook pro the last of the models with beveled keys i can t replace it because i can t type on the flat keys i ve got a typing speed of around 120 words per minute on a beveled keyboard but the chiclet keys on newer macs force my pinkies out too far the imac screens are too high and shiny for me so i m pretty well locked into the laptop for any intensive work i use a 20 imac 11 2 for skype movie watching and audio video editing\n",
      "\n",
      "Número de palabras: 103\n",
      "\n"
     ]
    },
    {
     "data": {
      "text/plain": [
       "1"
      ]
     },
     "execution_count": 5,
     "metadata": {},
     "output_type": "execute_result"
    }
   ],
   "source": [
    "my ($oracion_mas_larga_OCR, $longitud_mas_larga_OCR) = oracion_mas_larga($corpus_OCR);\n",
    "my ($oracion_mas_larga_REF, $longitud_mas_larga_REF) = oracion_mas_larga($corpus_REF);\n",
    "\n",
    "print \"La oración más larga en el archivo OCR es:\\n\\n$oracion_mas_larga_OCR\\n\\n\";\n",
    "print \"Número de palabras: $longitud_mas_larga_OCR\\n\\n\\n\";\n",
    "\n",
    "print \"La oración más larga en el archivo REF es:\\n\\n$oracion_mas_larga_REF\\n\\n\";\n",
    "print \"Número de palabras: $longitud_mas_larga_REF\\n\\n\";"
   ]
  },
  {
   "cell_type": "markdown",
   "id": "dfef676a",
   "metadata": {},
   "source": [
    "### 1.3.2 Cálculo de la frecuencia de palabras por fila"
   ]
  },
  {
   "cell_type": "code",
   "execution_count": 6,
   "id": "0e36f7dd",
   "metadata": {},
   "outputs": [],
   "source": [
    "sub frecuencia_palabras_por_fila {\n",
    "    my ($corpus) = @_;\n",
    "    my %contador_frecuencia_palabras;\n",
    "    undef %contador_frecuencia_palabras;\n",
    "\n",
    "    foreach my $oracion (@{$corpus}) {\n",
    "        my @palabras = split(' ', $oracion);\n",
    "        my $oracion_len = scalar @palabras;\n",
    "\n",
    "        $contador_frecuencia_palabras{$oracion_len}++;\n",
    "    }\n",
    "\n",
    "    return %contador_frecuencia_palabras;\n",
    "}"
   ]
  },
  {
   "cell_type": "markdown",
   "id": "16c1b84a",
   "metadata": {},
   "source": [
    "### 1.3.3 Histograma de frecuencias y número de palabras"
   ]
  },
  {
   "cell_type": "code",
   "execution_count": 7,
   "id": "0626db3b",
   "metadata": {},
   "outputs": [],
   "source": [
    "sub histograma {\n",
    "    my ($titulo, $len, $frecuencias, $nombre) = @_;\n",
    "\n",
    "    my $bar_trace = Chart::Plotly::Trace::Bar->new(\n",
    "        x    => $len,\n",
    "        y    => $frecuencias,\n",
    "        name => $nombre,\n",
    "    );\n",
    "\n",
    "    my $plot = Chart::Plotly::Plot->new(\n",
    "        traces => [$bar_trace],\n",
    "        layout => {\n",
    "            title => {\n",
    "                text => $titulo,\n",
    "                font => {\n",
    "                    family => \"Arial\",\n",
    "                    size   => 30\n",
    "                }\n",
    "            },\n",
    "            xaxis => { title => 'Número de palabras' },\n",
    "            yaxis => { title => 'Frecuencia' },\n",
    "        },\n",
    "    );\n",
    "\n",
    "    return $plot;\n",
    "}"
   ]
  },
  {
   "cell_type": "code",
   "execution_count": 8,
   "id": "860199ea",
   "metadata": {},
   "outputs": [
    {
     "data": {
      "text/plain": [
       "192585385756004975075005696587997998837306604673642552242011841631371009210677827559665464695844595040334144484343395048293125403334252320252516281818211526131110131320191710127412966485953141111211"
      ]
     },
     "execution_count": 8,
     "metadata": {},
     "output_type": "execute_result"
    }
   ],
   "source": [
    "my %contador_frecuencia_palabras_REF = frecuencia_palabras_por_fila($corpus_REF);\n",
    "my %contador_frecuencia_palabras_OCR = frecuencia_palabras_por_fila($corpus_OCR);\n",
    "\n",
    "my @len_REF = sort { $a <=> $b } keys %contador_frecuencia_palabras_REF;\n",
    "my @frecuencias_REF = @contador_frecuencia_palabras_REF{@len_REF};\n",
    "\n",
    "my @len_OCR = sort { $a <=> $b } keys %contador_frecuencia_palabras_OCR;\n",
    "my @frecuencias_OCR = @contador_frecuencia_palabras_OCR{@len_OCR};"
   ]
  },
  {
   "cell_type": "code",
   "execution_count": 9,
   "id": "ddb6964f",
   "metadata": {},
   "outputs": [
    {
     "data": {
      "text/html": [
       "<script>\n",
       "//# sourceURL=iperl-devel-plugin-chart-plotly.js\n",
       "            $('#Plotly').each(function(i, e) { $(e).attr('id', 'plotly') });\n",
       "\n",
       "            if (!window.Plotly) {\n",
       "                requirejs.config({\n",
       "                  paths: {\n",
       "                    plotly: ['https://cdn.plot.ly/plotly-latest.min']},\n",
       "                });\n",
       "                window.Plotly = {\n",
       "react : function (div, data, layout, config){\n",
       "                    require(['plotly'], function(plotly) {\n",
       "                      window.Plotly=plotly;\n",
       "Plotly.react(div, data, layout, config);                    });\n",
       "                  }\n",
       "                }\n",
       "            }\n",
       "</script>\n",
       "<div id=\"0bab53e0-b29a-11ee-8f6e-f58e19796d44\"></div>\n",
       "\n",
       "<script>\n",
       "Plotly.react(document.getElementById('0bab53e0-b29a-11ee-8f6e-f58e19796d44'),[{\"type\":\"bar\",\"y\":[19,258,538,575,600,497,507,500,569,658,799,799,883,730,660,467,364,255,224,201,184,163,137,100,92,106,77,82,75,59,66,54,64,69,58,44,59,50,40,33,41,44,48,43,43,39,50,48,29,31,25,40,33,34,25,23,20,25,25,16,28,18,18,21,15,26,13,11,10,13,13,20,19,17,10,12,7,4,12,9,6,6,4,8,5,9,5,3,1,4,1,1,1,1,2,1,1],\"x\":[\"0\",\"1\",\"2\",\"3\",\"4\",\"5\",\"6\",\"7\",\"8\",\"9\",\"10\",\"11\",\"12\",\"13\",\"14\",\"15\",\"16\",\"17\",\"18\",\"19\",\"20\",\"21\",\"22\",\"23\",\"24\",\"25\",\"26\",\"27\",\"28\",\"29\",\"30\",\"31\",\"32\",\"33\",\"34\",\"35\",\"36\",\"37\",\"38\",\"39\",\"40\",\"41\",\"42\",\"43\",\"44\",\"45\",\"46\",\"47\",\"48\",\"49\",\"50\",\"51\",\"52\",\"53\",\"54\",\"55\",\"56\",\"57\",\"58\",\"59\",\"60\",\"61\",\"62\",\"63\",\"64\",\"65\",\"66\",\"67\",\"68\",\"69\",\"70\",\"71\",\"72\",\"73\",\"74\",\"75\",\"76\",\"77\",\"78\",\"79\",\"80\",\"81\",\"82\",\"83\",\"84\",\"85\",\"86\",\"87\",\"88\",\"89\",\"91\",\"92\",\"93\",\"94\",\"97\",\"100\",\"103\"],\"name\":\"Frecuencia OCR\"}] ,{\"yaxis\":{\"title\":\"Frecuencia\"},\"xaxis\":{\"title\":\"Número de palabras\"},\"title\":{\"text\":\"Distribución de frecuencias de número de palabras de OCR\",\"font\":{\"size\":30,\"family\":\"Arial\"}}} );\n",
       "</script>\n"
      ]
     },
     "metadata": {},
     "output_type": "display_data"
    }
   ],
   "source": [
    "my $plot_OCR = histograma(\n",
    "    'Distribución de frecuencias de número de palabras de OCR',\n",
    "    \\@len_OCR,\n",
    "    \\@frecuencias_OCR,\n",
    "    'Frecuencia OCR'\n",
    ");"
   ]
  },
  {
   "cell_type": "code",
   "execution_count": 10,
   "id": "98f2d139",
   "metadata": {
    "scrolled": false
   },
   "outputs": [
    {
     "data": {
      "text/html": [
       "<script>\n",
       "//# sourceURL=iperl-devel-plugin-chart-plotly.js\n",
       "            $('#Plotly').each(function(i, e) { $(e).attr('id', 'plotly') });\n",
       "\n",
       "            if (!window.Plotly) {\n",
       "                requirejs.config({\n",
       "                  paths: {\n",
       "                    plotly: ['https://cdn.plot.ly/plotly-latest.min']},\n",
       "                });\n",
       "                window.Plotly = {\n",
       "react : function (div, data, layout, config){\n",
       "                    require(['plotly'], function(plotly) {\n",
       "                      window.Plotly=plotly;\n",
       "Plotly.react(div, data, layout, config);                    });\n",
       "                  }\n",
       "                }\n",
       "            }\n",
       "</script>\n",
       "<div id=\"0babf8ea-b29a-11ee-8f6e-c15716b6a893\"></div>\n",
       "\n",
       "<script>\n",
       "Plotly.react(document.getElementById('0babf8ea-b29a-11ee-8f6e-c15716b6a893'),[{\"y\":[19,262,533,576,603,494,500,514,562,661,790,826,858,733,648,501,339,256,226,208,180,154,146,90,100,106,80,73,75,62,66,53,73,64,56,53,53,46,38,36,50,38,38,53,41,41,52,42,32,31,30,39,32,29,23,28,18,25,27,21,20,21,18,20,16,25,12,9,14,10,18,21,14,16,12,11,9,4,11,9,7,4,6,7,8,6,7,2,1,2,2,1,1,1,1,1,1,1],\"x\":[\"0\",\"1\",\"2\",\"3\",\"4\",\"5\",\"6\",\"7\",\"8\",\"9\",\"10\",\"11\",\"12\",\"13\",\"14\",\"15\",\"16\",\"17\",\"18\",\"19\",\"20\",\"21\",\"22\",\"23\",\"24\",\"25\",\"26\",\"27\",\"28\",\"29\",\"30\",\"31\",\"32\",\"33\",\"34\",\"35\",\"36\",\"37\",\"38\",\"39\",\"40\",\"41\",\"42\",\"43\",\"44\",\"45\",\"46\",\"47\",\"48\",\"49\",\"50\",\"51\",\"52\",\"53\",\"54\",\"55\",\"56\",\"57\",\"58\",\"59\",\"60\",\"61\",\"62\",\"63\",\"64\",\"65\",\"66\",\"67\",\"68\",\"69\",\"70\",\"71\",\"72\",\"73\",\"74\",\"75\",\"76\",\"77\",\"78\",\"79\",\"80\",\"81\",\"82\",\"83\",\"84\",\"85\",\"86\",\"87\",\"88\",\"90\",\"91\",\"92\",\"93\",\"94\",\"97\",\"98\",\"100\",\"103\"],\"type\":\"bar\",\"name\":\"Frecuencia REF\"}] ,{\"xaxis\":{\"title\":\"Número de palabras\"},\"yaxis\":{\"title\":\"Frecuencia\"},\"title\":{\"font\":{\"size\":30,\"family\":\"Arial\"},\"text\":\"Distribución de frecuencias de número de palabras de REF\"}} );\n",
       "</script>\n"
      ]
     },
     "metadata": {},
     "output_type": "display_data"
    }
   ],
   "source": [
    "my $plot_REF = histograma(\n",
    "    'Distribución de frecuencias de número de palabras de REF',\n",
    "    \\@len_REF,\n",
    "    \\@frecuencias_REF,\n",
    "    'Frecuencia REF'\n",
    ");"
   ]
  },
  {
   "cell_type": "markdown",
   "id": "26e22b0e",
   "metadata": {},
   "source": [
    "### 1.3.4 Comprobación de filas vacías, filas que esten vacias en un archivo y que en el otro tenga una sola palabra, filas en la misma posicion de los dos archivos que solo contengan una palabra y caracteres individuales en los archivos"
   ]
  },
  {
   "cell_type": "code",
   "execution_count": 11,
   "id": "838e50e8",
   "metadata": {},
   "outputs": [],
   "source": [
    "sub numero_palabras {\n",
    "    my ($corpus, $target_len) = @_;\n",
    "    my $pos = 1;\n",
    "    my $filas_encontradas = 0;\n",
    "\n",
    "    foreach my $oracion (@{$corpus}) {\n",
    "        my @palabras = split(' ', $oracion);\n",
    "        my $oracion_len = scalar @palabras;\n",
    "\n",
    "        if ($oracion_len == $target_len) {\n",
    "            print \"Fila con $target_len tokens encontrada en la posición $pos\\n\";\n",
    "            $filas_encontradas++;\n",
    "        }\n",
    "\n",
    "        $pos++;\n",
    "    }\n",
    "\n",
    "    return $filas_encontradas;\n",
    "}"
   ]
  },
  {
   "cell_type": "code",
   "execution_count": 12,
   "id": "77b80d84",
   "metadata": {},
   "outputs": [
    {
     "name": "stdout",
     "output_type": "stream",
     "text": [
      "Fila con 1 tokens encontrada en la posición 14\n",
      "Fila con 1 tokens encontrada en la posición 59\n",
      "Fila con 1 tokens encontrada en la posición 139\n",
      "Fila con 1 tokens encontrada en la posición 150\n",
      "Fila con 1 tokens encontrada en la posición 188\n",
      "Fila con 1 tokens encontrada en la posición 220\n",
      "Fila con 1 tokens encontrada en la posición 225\n",
      "Fila con 1 tokens encontrada en la posición 345\n",
      "Fila con 1 tokens encontrada en la posición 346\n",
      "Fila con 1 tokens encontrada en la posición 353\n",
      "Fila con 1 tokens encontrada en la posición 357\n",
      "Fila con 1 tokens encontrada en la posición 439\n",
      "Fila con 1 tokens encontrada en la posición 444\n",
      "Fila con 1 tokens encontrada en la posición 659\n",
      "Fila con 1 tokens encontrada en la posición 675\n",
      "Fila con 1 tokens encontrada en la posición 678\n",
      "Fila con 1 tokens encontrada en la posición 735\n",
      "Fila con 1 tokens encontrada en la posición 760\n",
      "Fila con 1 tokens encontrada en la posición 945\n",
      "Fila con 1 tokens encontrada en la posición 1143\n",
      "Fila con 1 tokens encontrada en la posición 1201\n",
      "Fila con 1 tokens encontrada en la posición 1239\n",
      "Fila con 1 tokens encontrada en la posición 1242\n",
      "Fila con 1 tokens encontrada en la posición 1243\n",
      "Fila con 1 tokens encontrada en la posición 1319\n",
      "Fila con 1 tokens encontrada en la posición 1395\n",
      "Fila con 1 tokens encontrada en la posición 1400\n",
      "Fila con 1 tokens encontrada en la posición 1412\n",
      "Fila con 1 tokens encontrada en la posición 1440\n",
      "Fila con 1 tokens encontrada en la posición 1454\n",
      "Fila con 1 tokens encontrada en la posición 1864\n",
      "Fila con 1 tokens encontrada en la posición 1883\n",
      "Fila con 1 tokens encontrada en la posición 1943\n",
      "Fila con 1 tokens encontrada en la posición 2057\n",
      "Fila con 1 tokens encontrada en la posición 2114\n",
      "Fila con 1 tokens encontrada en la posición 2126\n",
      "Fila con 1 tokens encontrada en la posición 2150\n",
      "Fila con 1 tokens encontrada en la posición 2183\n",
      "Fila con 1 tokens encontrada en la posición 2249\n",
      "Fila con 1 tokens encontrada en la posición 2315\n",
      "Fila con 1 tokens encontrada en la posición 2329\n",
      "Fila con 1 tokens encontrada en la posición 2414\n",
      "Fila con 1 tokens encontrada en la posición 2435\n",
      "Fila con 1 tokens encontrada en la posición 2656\n",
      "Fila con 1 tokens encontrada en la posición 2677\n",
      "Fila con 1 tokens encontrada en la posición 2700\n",
      "Fila con 1 tokens encontrada en la posición 2748\n",
      "Fila con 1 tokens encontrada en la posición 2854\n",
      "Fila con 1 tokens encontrada en la posición 2876\n",
      "Fila con 1 tokens encontrada en la posición 2878\n",
      "Fila con 1 tokens encontrada en la posición 3123\n",
      "Fila con 1 tokens encontrada en la posición 3129\n",
      "Fila con 1 tokens encontrada en la posición 3194\n",
      "Fila con 1 tokens encontrada en la posición 3249\n",
      "Fila con 1 tokens encontrada en la posición 3274\n",
      "Fila con 1 tokens encontrada en la posición 3304\n",
      "Fila con 1 tokens encontrada en la posición 3319\n",
      "Fila con 1 tokens encontrada en la posición 3453\n",
      "Fila con 1 tokens encontrada en la posición 3538\n",
      "Fila con 1 tokens encontrada en la posición 3640\n",
      "Fila con 1 tokens encontrada en la posición 3644\n",
      "Fila con 1 tokens encontrada en la posición 3649\n",
      "Fila con 1 tokens encontrada en la posición 3665\n",
      "Fila con 1 tokens encontrada en la posición 3696\n",
      "Fila con 1 tokens encontrada en la posición 3699\n",
      "Fila con 1 tokens encontrada en la posición 3760\n",
      "Fila con 1 tokens encontrada en la posición 3826\n",
      "Fila con 1 tokens encontrada en la posición 3852\n",
      "Fila con 1 tokens encontrada en la posición 3854\n",
      "Fila con 1 tokens encontrada en la posición 3867\n",
      "Fila con 1 tokens encontrada en la posición 3967\n",
      "Fila con 1 tokens encontrada en la posición 4046\n",
      "Fila con 1 tokens encontrada en la posición 4173\n",
      "Fila con 1 tokens encontrada en la posición 4178\n",
      "Fila con 1 tokens encontrada en la posición 4252\n",
      "Fila con 1 tokens encontrada en la posición 4292\n",
      "Fila con 1 tokens encontrada en la posición 4374\n",
      "Fila con 1 tokens encontrada en la posición 4405\n",
      "Fila con 1 tokens encontrada en la posición 4461\n",
      "Fila con 1 tokens encontrada en la posición 4512\n",
      "Fila con 1 tokens encontrada en la posición 4517\n",
      "Fila con 1 tokens encontrada en la posición 4612\n",
      "Fila con 1 tokens encontrada en la posición 4648\n",
      "Fila con 1 tokens encontrada en la posición 4896\n",
      "Fila con 1 tokens encontrada en la posición 4926\n",
      "Fila con 1 tokens encontrada en la posición 4970\n",
      "Fila con 1 tokens encontrada en la posición 4990\n",
      "Fila con 1 tokens encontrada en la posición 5036\n",
      "Fila con 1 tokens encontrada en la posición 5067\n",
      "Fila con 1 tokens encontrada en la posición 5146\n",
      "Fila con 1 tokens encontrada en la posición 5154\n",
      "Fila con 1 tokens encontrada en la posición 5207\n",
      "Fila con 1 tokens encontrada en la posición 5534\n",
      "Fila con 1 tokens encontrada en la posición 5563\n",
      "Fila con 1 tokens encontrada en la posición 5602\n",
      "Fila con 1 tokens encontrada en la posición 5615\n",
      "Fila con 1 tokens encontrada en la posición 5740\n",
      "Fila con 1 tokens encontrada en la posición 5757\n",
      "Fila con 1 tokens encontrada en la posición 5942\n",
      "Fila con 1 tokens encontrada en la posición 5951\n",
      "Fila con 1 tokens encontrada en la posición 6024\n",
      "Fila con 1 tokens encontrada en la posición 6087\n",
      "Fila con 1 tokens encontrada en la posición 6122\n",
      "Fila con 1 tokens encontrada en la posición 6125\n",
      "Fila con 1 tokens encontrada en la posición 6130\n",
      "Fila con 1 tokens encontrada en la posición 6173\n",
      "Fila con 1 tokens encontrada en la posición 6188\n",
      "Fila con 1 tokens encontrada en la posición 6221\n",
      "Fila con 1 tokens encontrada en la posición 6244\n",
      "Fila con 1 tokens encontrada en la posición 6287\n",
      "Fila con 1 tokens encontrada en la posición 6321\n",
      "Fila con 1 tokens encontrada en la posición 6429\n",
      "Fila con 1 tokens encontrada en la posición 6439\n",
      "Fila con 1 tokens encontrada en la posición 6455\n",
      "Fila con 1 tokens encontrada en la posición 6485\n",
      "Fila con 1 tokens encontrada en la posición 6566\n",
      "Fila con 1 tokens encontrada en la posición 6572\n",
      "Fila con 1 tokens encontrada en la posición 6651\n",
      "Fila con 1 tokens encontrada en la posición 6711\n",
      "Fila con 1 tokens encontrada en la posición 6793\n",
      "Fila con 1 tokens encontrada en la posición 6817\n",
      "Fila con 1 tokens encontrada en la posición 6861\n",
      "Fila con 1 tokens encontrada en la posición 6906\n",
      "Fila con 1 tokens encontrada en la posición 6983\n",
      "Fila con 1 tokens encontrada en la posición 7101\n",
      "Fila con 1 tokens encontrada en la posición 7104\n",
      "Fila con 1 tokens encontrada en la posición 7220\n",
      "Fila con 1 tokens encontrada en la posición 7353\n",
      "Fila con 1 tokens encontrada en la posición 7354\n",
      "Fila con 1 tokens encontrada en la posición 7429\n",
      "Fila con 1 tokens encontrada en la posición 7444\n",
      "Fila con 1 tokens encontrada en la posición 7530\n",
      "Fila con 1 tokens encontrada en la posición 7685\n",
      "Fila con 1 tokens encontrada en la posición 7735\n",
      "Fila con 1 tokens encontrada en la posición 7880\n",
      "Fila con 1 tokens encontrada en la posición 7892\n",
      "Fila con 1 tokens encontrada en la posición 7909\n",
      "Fila con 1 tokens encontrada en la posición 7920\n",
      "Fila con 1 tokens encontrada en la posición 8022\n",
      "Fila con 1 tokens encontrada en la posición 8040\n",
      "Fila con 1 tokens encontrada en la posición 8043\n",
      "Fila con 1 tokens encontrada en la posición 8062\n",
      "Fila con 1 tokens encontrada en la posición 8065\n",
      "Fila con 1 tokens encontrada en la posición 8073\n",
      "Fila con 1 tokens encontrada en la posición 8074\n",
      "Fila con 1 tokens encontrada en la posición 8123\n",
      "Fila con 1 tokens encontrada en la posición 8131\n",
      "Fila con 1 tokens encontrada en la posición 8149\n",
      "Fila con 1 tokens encontrada en la posición 8182\n",
      "Fila con 1 tokens encontrada en la posición 8189\n",
      "Fila con 1 tokens encontrada en la posición 8380\n",
      "Fila con 1 tokens encontrada en la posición 8417\n",
      "Fila con 1 tokens encontrada en la posición 8519\n",
      "Fila con 1 tokens encontrada en la posición 8539\n",
      "Fila con 1 tokens encontrada en la posición 8556\n",
      "Fila con 1 tokens encontrada en la posición 8567\n",
      "Fila con 1 tokens encontrada en la posición 8575\n",
      "Fila con 1 tokens encontrada en la posición 8750\n",
      "Fila con 1 tokens encontrada en la posición 8782\n",
      "Fila con 1 tokens encontrada en la posición 8788\n",
      "Fila con 1 tokens encontrada en la posición 8798\n",
      "Fila con 1 tokens encontrada en la posición 8822\n",
      "Fila con 1 tokens encontrada en la posición 8830\n",
      "Fila con 1 tokens encontrada en la posición 8844\n",
      "Fila con 1 tokens encontrada en la posición 8847\n",
      "Fila con 1 tokens encontrada en la posición 8898\n",
      "Fila con 1 tokens encontrada en la posición 8943\n",
      "Fila con 1 tokens encontrada en la posición 8952\n",
      "Fila con 1 tokens encontrada en la posición 8980\n",
      "Fila con 1 tokens encontrada en la posición 9001\n",
      "Fila con 1 tokens encontrada en la posición 9024\n",
      "Fila con 1 tokens encontrada en la posición 9061\n",
      "Fila con 1 tokens encontrada en la posición 9088\n",
      "Fila con 1 tokens encontrada en la posición 9170\n",
      "Fila con 1 tokens encontrada en la posición 9191\n",
      "Fila con 1 tokens encontrada en la posición 9244\n",
      "Fila con 1 tokens encontrada en la posición 9296\n",
      "Fila con 1 tokens encontrada en la posición 9445\n",
      "Fila con 1 tokens encontrada en la posición 9542\n",
      "Fila con 1 tokens encontrada en la posición 9699\n",
      "Fila con 1 tokens encontrada en la posición 9730\n",
      "Fila con 1 tokens encontrada en la posición 9772\n",
      "Fila con 1 tokens encontrada en la posición 9776\n",
      "Fila con 1 tokens encontrada en la posición 9779\n",
      "Fila con 1 tokens encontrada en la posición 9837\n",
      "Fila con 1 tokens encontrada en la posición 9880\n",
      "Fila con 1 tokens encontrada en la posición 9906\n",
      "Fila con 1 tokens encontrada en la posición 9999\n",
      "Fila con 1 tokens encontrada en la posición 10036\n",
      "Fila con 1 tokens encontrada en la posición 10094\n",
      "Fila con 1 tokens encontrada en la posición 10095\n",
      "Fila con 1 tokens encontrada en la posición 10136\n",
      "Fila con 1 tokens encontrada en la posición 10161\n",
      "Fila con 1 tokens encontrada en la posición 10218\n",
      "Fila con 1 tokens encontrada en la posición 10267\n",
      "Fila con 1 tokens encontrada en la posición 10279\n",
      "Fila con 1 tokens encontrada en la posición 10281\n",
      "Fila con 1 tokens encontrada en la posición 10308\n",
      "Fila con 1 tokens encontrada en la posición 10312\n",
      "Fila con 1 tokens encontrada en la posición 10329\n",
      "Fila con 1 tokens encontrada en la posición 10368\n",
      "Fila con 1 tokens encontrada en la posición 10449\n",
      "Fila con 1 tokens encontrada en la posición 10519\n",
      "Fila con 1 tokens encontrada en la posición 10528\n",
      "Fila con 1 tokens encontrada en la posición 10581\n",
      "Fila con 1 tokens encontrada en la posición 10606\n",
      "Fila con 1 tokens encontrada en la posición 10757\n",
      "Fila con 1 tokens encontrada en la posición 10785\n",
      "Fila con 1 tokens encontrada en la posición 10805\n",
      "Fila con 1 tokens encontrada en la posición 10828\n",
      "Fila con 1 tokens encontrada en la posición 10870\n",
      "Fila con 1 tokens encontrada en la posición 10886\n",
      "Fila con 1 tokens encontrada en la posición 10902\n",
      "Fila con 1 tokens encontrada en la posición 10938\n",
      "Fila con 1 tokens encontrada en la posición 10940\n",
      "Fila con 1 tokens encontrada en la posición 11027\n",
      "Fila con 1 tokens encontrada en la posición 11095\n",
      "Fila con 1 tokens encontrada en la posición 11096\n",
      "Fila con 1 tokens encontrada en la posición 11099\n",
      "Fila con 1 tokens encontrada en la posición 11155\n",
      "Fila con 1 tokens encontrada en la posición 11170\n",
      "Fila con 1 tokens encontrada en la posición 11214\n",
      "Fila con 1 tokens encontrada en la posición 11259\n",
      "Fila con 1 tokens encontrada en la posición 11363\n",
      "Fila con 1 tokens encontrada en la posición 11378\n",
      "Fila con 1 tokens encontrada en la posición 11389\n",
      "Fila con 1 tokens encontrada en la posición 11392\n",
      "Fila con 1 tokens encontrada en la posición 11460\n",
      "Fila con 1 tokens encontrada en la posición 11535\n",
      "Fila con 1 tokens encontrada en la posición 11565\n",
      "Fila con 1 tokens encontrada en la posición 11588\n",
      "Fila con 1 tokens encontrada en la posición 11630\n",
      "Fila con 1 tokens encontrada en la posición 11672\n",
      "Fila con 1 tokens encontrada en la posición 11674\n",
      "Fila con 1 tokens encontrada en la posición 11724\n",
      "Fila con 1 tokens encontrada en la posición 11773\n",
      "Fila con 1 tokens encontrada en la posición 11801\n",
      "Fila con 1 tokens encontrada en la posición 11815\n",
      "Fila con 1 tokens encontrada en la posición 11891\n",
      "Fila con 1 tokens encontrada en la posición 11968\n",
      "Fila con 1 tokens encontrada en la posición 12016\n",
      "Fila con 1 tokens encontrada en la posición 12074\n",
      "Fila con 1 tokens encontrada en la posición 12086\n",
      "Fila con 1 tokens encontrada en la posición 12090\n",
      "Fila con 1 tokens encontrada en la posición 12123\n",
      "Fila con 1 tokens encontrada en la posición 12204\n",
      "Fila con 1 tokens encontrada en la posición 12379\n",
      "Fila con 1 tokens encontrada en la posición 12414\n",
      "Fila con 1 tokens encontrada en la posición 12603\n",
      "Fila con 1 tokens encontrada en la posición 12611\n",
      "Fila con 1 tokens encontrada en la posición 12619\n",
      "Fila con 1 tokens encontrada en la posición 12622\n",
      "Fila con 1 tokens encontrada en la posición 12648\n",
      "Fila con 1 tokens encontrada en la posición 12653\n",
      "Fila con 1 tokens encontrada en la posición 12697\n",
      "Fila con 1 tokens encontrada en la posición 12710\n",
      "Fila con 1 tokens encontrada en la posición 12712\n",
      "Fila con 1 tokens encontrada en la posición 12734\n",
      "Número de filas encontradas en OCR: 258\n"
     ]
    },
    {
     "data": {
      "text/plain": [
       "1"
      ]
     },
     "execution_count": 12,
     "metadata": {},
     "output_type": "execute_result"
    }
   ],
   "source": [
    "my $target_len_OCR = 1;\n",
    "my $filas_encontradas_OCR = numero_palabras($corpus_OCR, $target_len_OCR);\n",
    "print \"Número de filas encontradas en OCR: $filas_encontradas_OCR\\n\";"
   ]
  },
  {
   "cell_type": "code",
   "execution_count": 13,
   "id": "3341287a",
   "metadata": {},
   "outputs": [
    {
     "name": "stdout",
     "output_type": "stream",
     "text": [
      "Fila con 1 tokens encontrada en la posición 14\n",
      "Fila con 1 tokens encontrada en la posición 59\n",
      "Fila con 1 tokens encontrada en la posición 139\n",
      "Fila con 1 tokens encontrada en la posición 150\n",
      "Fila con 1 tokens encontrada en la posición 188\n",
      "Fila con 1 tokens encontrada en la posición 220\n",
      "Fila con 1 tokens encontrada en la posición 225\n",
      "Fila con 1 tokens encontrada en la posición 310\n",
      "Fila con 1 tokens encontrada en la posición 345\n",
      "Fila con 1 tokens encontrada en la posición 346\n",
      "Fila con 1 tokens encontrada en la posición 353\n",
      "Fila con 1 tokens encontrada en la posición 357\n",
      "Fila con 1 tokens encontrada en la posición 439\n",
      "Fila con 1 tokens encontrada en la posición 444\n",
      "Fila con 1 tokens encontrada en la posición 659\n",
      "Fila con 1 tokens encontrada en la posición 675\n",
      "Fila con 1 tokens encontrada en la posición 678\n",
      "Fila con 1 tokens encontrada en la posición 735\n",
      "Fila con 1 tokens encontrada en la posición 760\n",
      "Fila con 1 tokens encontrada en la posición 945\n",
      "Fila con 1 tokens encontrada en la posición 1143\n",
      "Fila con 1 tokens encontrada en la posición 1201\n",
      "Fila con 1 tokens encontrada en la posición 1239\n",
      "Fila con 1 tokens encontrada en la posición 1242\n",
      "Fila con 1 tokens encontrada en la posición 1243\n",
      "Fila con 1 tokens encontrada en la posición 1319\n",
      "Fila con 1 tokens encontrada en la posición 1395\n",
      "Fila con 1 tokens encontrada en la posición 1400\n",
      "Fila con 1 tokens encontrada en la posición 1412\n",
      "Fila con 1 tokens encontrada en la posición 1440\n",
      "Fila con 1 tokens encontrada en la posición 1454\n",
      "Fila con 1 tokens encontrada en la posición 1864\n",
      "Fila con 1 tokens encontrada en la posición 1883\n",
      "Fila con 1 tokens encontrada en la posición 1943\n",
      "Fila con 1 tokens encontrada en la posición 2057\n",
      "Fila con 1 tokens encontrada en la posición 2114\n",
      "Fila con 1 tokens encontrada en la posición 2126\n",
      "Fila con 1 tokens encontrada en la posición 2150\n",
      "Fila con 1 tokens encontrada en la posición 2181\n",
      "Fila con 1 tokens encontrada en la posición 2183\n",
      "Fila con 1 tokens encontrada en la posición 2249\n",
      "Fila con 1 tokens encontrada en la posición 2315\n",
      "Fila con 1 tokens encontrada en la posición 2329\n",
      "Fila con 1 tokens encontrada en la posición 2414\n",
      "Fila con 1 tokens encontrada en la posición 2435\n",
      "Fila con 1 tokens encontrada en la posición 2656\n",
      "Fila con 1 tokens encontrada en la posición 2677\n",
      "Fila con 1 tokens encontrada en la posición 2700\n",
      "Fila con 1 tokens encontrada en la posición 2748\n",
      "Fila con 1 tokens encontrada en la posición 2854\n",
      "Fila con 1 tokens encontrada en la posición 2876\n",
      "Fila con 1 tokens encontrada en la posición 2878\n",
      "Fila con 1 tokens encontrada en la posición 3123\n",
      "Fila con 1 tokens encontrada en la posición 3129\n",
      "Fila con 1 tokens encontrada en la posición 3194\n",
      "Fila con 1 tokens encontrada en la posición 3249\n",
      "Fila con 1 tokens encontrada en la posición 3274\n",
      "Fila con 1 tokens encontrada en la posición 3304\n",
      "Fila con 1 tokens encontrada en la posición 3319\n",
      "Fila con 1 tokens encontrada en la posición 3538\n",
      "Fila con 1 tokens encontrada en la posición 3640\n",
      "Fila con 1 tokens encontrada en la posición 3644\n",
      "Fila con 1 tokens encontrada en la posición 3649\n",
      "Fila con 1 tokens encontrada en la posición 3665\n",
      "Fila con 1 tokens encontrada en la posición 3696\n",
      "Fila con 1 tokens encontrada en la posición 3699\n",
      "Fila con 1 tokens encontrada en la posición 3760\n",
      "Fila con 1 tokens encontrada en la posición 3826\n",
      "Fila con 1 tokens encontrada en la posición 3852\n",
      "Fila con 1 tokens encontrada en la posición 3854\n",
      "Fila con 1 tokens encontrada en la posición 3867\n",
      "Fila con 1 tokens encontrada en la posición 3967\n",
      "Fila con 1 tokens encontrada en la posición 4046\n",
      "Fila con 1 tokens encontrada en la posición 4173\n",
      "Fila con 1 tokens encontrada en la posición 4178\n",
      "Fila con 1 tokens encontrada en la posición 4252\n",
      "Fila con 1 tokens encontrada en la posición 4292\n",
      "Fila con 1 tokens encontrada en la posición 4374\n",
      "Fila con 1 tokens encontrada en la posición 4405\n",
      "Fila con 1 tokens encontrada en la posición 4461\n",
      "Fila con 1 tokens encontrada en la posición 4512\n",
      "Fila con 1 tokens encontrada en la posición 4517\n",
      "Fila con 1 tokens encontrada en la posición 4648\n",
      "Fila con 1 tokens encontrada en la posición 4896\n",
      "Fila con 1 tokens encontrada en la posición 4926\n",
      "Fila con 1 tokens encontrada en la posición 4970\n",
      "Fila con 1 tokens encontrada en la posición 4990\n",
      "Fila con 1 tokens encontrada en la posición 5036\n",
      "Fila con 1 tokens encontrada en la posición 5067\n",
      "Fila con 1 tokens encontrada en la posición 5146\n",
      "Fila con 1 tokens encontrada en la posición 5154\n",
      "Fila con 1 tokens encontrada en la posición 5181\n",
      "Fila con 1 tokens encontrada en la posición 5207\n",
      "Fila con 1 tokens encontrada en la posición 5534\n",
      "Fila con 1 tokens encontrada en la posición 5563\n",
      "Fila con 1 tokens encontrada en la posición 5602\n",
      "Fila con 1 tokens encontrada en la posición 5615\n",
      "Fila con 1 tokens encontrada en la posición 5740\n",
      "Fila con 1 tokens encontrada en la posición 5757\n",
      "Fila con 1 tokens encontrada en la posición 5772\n",
      "Fila con 1 tokens encontrada en la posición 5942\n",
      "Fila con 1 tokens encontrada en la posición 5951\n",
      "Fila con 1 tokens encontrada en la posición 6024\n",
      "Fila con 1 tokens encontrada en la posición 6087\n",
      "Fila con 1 tokens encontrada en la posición 6122\n",
      "Fila con 1 tokens encontrada en la posición 6125\n",
      "Fila con 1 tokens encontrada en la posición 6130\n",
      "Fila con 1 tokens encontrada en la posición 6173\n",
      "Fila con 1 tokens encontrada en la posición 6188\n",
      "Fila con 1 tokens encontrada en la posición 6221\n",
      "Fila con 1 tokens encontrada en la posición 6244\n",
      "Fila con 1 tokens encontrada en la posición 6287\n",
      "Fila con 1 tokens encontrada en la posición 6321\n",
      "Fila con 1 tokens encontrada en la posición 6429\n",
      "Fila con 1 tokens encontrada en la posición 6439\n",
      "Fila con 1 tokens encontrada en la posición 6455\n",
      "Fila con 1 tokens encontrada en la posición 6485\n",
      "Fila con 1 tokens encontrada en la posición 6566\n",
      "Fila con 1 tokens encontrada en la posición 6572\n",
      "Fila con 1 tokens encontrada en la posición 6651\n",
      "Fila con 1 tokens encontrada en la posición 6711\n",
      "Fila con 1 tokens encontrada en la posición 6793\n",
      "Fila con 1 tokens encontrada en la posición 6817\n",
      "Fila con 1 tokens encontrada en la posición 6861\n",
      "Fila con 1 tokens encontrada en la posición 6906\n",
      "Fila con 1 tokens encontrada en la posición 6983\n",
      "Fila con 1 tokens encontrada en la posición 7101\n",
      "Fila con 1 tokens encontrada en la posición 7104\n",
      "Fila con 1 tokens encontrada en la posición 7220\n",
      "Fila con 1 tokens encontrada en la posición 7353\n",
      "Fila con 1 tokens encontrada en la posición 7354\n",
      "Fila con 1 tokens encontrada en la posición 7429\n",
      "Fila con 1 tokens encontrada en la posición 7444\n",
      "Fila con 1 tokens encontrada en la posición 7530\n",
      "Fila con 1 tokens encontrada en la posición 7685\n",
      "Fila con 1 tokens encontrada en la posición 7735\n",
      "Fila con 1 tokens encontrada en la posición 7880\n",
      "Fila con 1 tokens encontrada en la posición 7892\n",
      "Fila con 1 tokens encontrada en la posición 7909\n",
      "Fila con 1 tokens encontrada en la posición 7920\n",
      "Fila con 1 tokens encontrada en la posición 8022\n",
      "Fila con 1 tokens encontrada en la posición 8040\n",
      "Fila con 1 tokens encontrada en la posición 8043\n",
      "Fila con 1 tokens encontrada en la posición 8062\n",
      "Fila con 1 tokens encontrada en la posición 8065\n",
      "Fila con 1 tokens encontrada en la posición 8073\n",
      "Fila con 1 tokens encontrada en la posición 8074\n",
      "Fila con 1 tokens encontrada en la posición 8123\n",
      "Fila con 1 tokens encontrada en la posición 8131\n",
      "Fila con 1 tokens encontrada en la posición 8149\n",
      "Fila con 1 tokens encontrada en la posición 8182\n",
      "Fila con 1 tokens encontrada en la posición 8189\n",
      "Fila con 1 tokens encontrada en la posición 8287\n",
      "Fila con 1 tokens encontrada en la posición 8380\n",
      "Fila con 1 tokens encontrada en la posición 8417\n",
      "Fila con 1 tokens encontrada en la posición 8519\n",
      "Fila con 1 tokens encontrada en la posición 8539\n",
      "Fila con 1 tokens encontrada en la posición 8556\n",
      "Fila con 1 tokens encontrada en la posición 8567\n",
      "Fila con 1 tokens encontrada en la posición 8575\n",
      "Fila con 1 tokens encontrada en la posición 8750\n",
      "Fila con 1 tokens encontrada en la posición 8764\n",
      "Fila con 1 tokens encontrada en la posición 8782\n",
      "Fila con 1 tokens encontrada en la posición 8788\n",
      "Fila con 1 tokens encontrada en la posición 8798\n",
      "Fila con 1 tokens encontrada en la posición 8822\n",
      "Fila con 1 tokens encontrada en la posición 8830\n",
      "Fila con 1 tokens encontrada en la posición 8844\n",
      "Fila con 1 tokens encontrada en la posición 8847\n",
      "Fila con 1 tokens encontrada en la posición 8898\n",
      "Fila con 1 tokens encontrada en la posición 8943\n",
      "Fila con 1 tokens encontrada en la posición 8952\n",
      "Fila con 1 tokens encontrada en la posición 8980\n",
      "Fila con 1 tokens encontrada en la posición 9001\n",
      "Fila con 1 tokens encontrada en la posición 9024\n",
      "Fila con 1 tokens encontrada en la posición 9061\n",
      "Fila con 1 tokens encontrada en la posición 9088\n",
      "Fila con 1 tokens encontrada en la posición 9170\n",
      "Fila con 1 tokens encontrada en la posición 9191\n",
      "Fila con 1 tokens encontrada en la posición 9244\n",
      "Fila con 1 tokens encontrada en la posición 9296\n",
      "Fila con 1 tokens encontrada en la posición 9354\n",
      "Fila con 1 tokens encontrada en la posición 9445\n",
      "Fila con 1 tokens encontrada en la posición 9542\n",
      "Fila con 1 tokens encontrada en la posición 9699\n",
      "Fila con 1 tokens encontrada en la posición 9730\n",
      "Fila con 1 tokens encontrada en la posición 9772\n",
      "Fila con 1 tokens encontrada en la posición 9776\n",
      "Fila con 1 tokens encontrada en la posición 9779\n",
      "Fila con 1 tokens encontrada en la posición 9837\n",
      "Fila con 1 tokens encontrada en la posición 9880\n",
      "Fila con 1 tokens encontrada en la posición 9906\n",
      "Fila con 1 tokens encontrada en la posición 9999\n",
      "Fila con 1 tokens encontrada en la posición 10036\n",
      "Fila con 1 tokens encontrada en la posición 10094\n",
      "Fila con 1 tokens encontrada en la posición 10095\n",
      "Fila con 1 tokens encontrada en la posición 10136\n",
      "Fila con 1 tokens encontrada en la posición 10161\n",
      "Fila con 1 tokens encontrada en la posición 10218\n",
      "Fila con 1 tokens encontrada en la posición 10267\n",
      "Fila con 1 tokens encontrada en la posición 10279\n",
      "Fila con 1 tokens encontrada en la posición 10281\n",
      "Fila con 1 tokens encontrada en la posición 10308\n",
      "Fila con 1 tokens encontrada en la posición 10312\n",
      "Fila con 1 tokens encontrada en la posición 10329\n",
      "Fila con 1 tokens encontrada en la posición 10368\n",
      "Fila con 1 tokens encontrada en la posición 10449\n",
      "Fila con 1 tokens encontrada en la posición 10519\n",
      "Fila con 1 tokens encontrada en la posición 10528\n",
      "Fila con 1 tokens encontrada en la posición 10581\n",
      "Fila con 1 tokens encontrada en la posición 10606\n",
      "Fila con 1 tokens encontrada en la posición 10757\n",
      "Fila con 1 tokens encontrada en la posición 10785\n",
      "Fila con 1 tokens encontrada en la posición 10805\n",
      "Fila con 1 tokens encontrada en la posición 10870\n",
      "Fila con 1 tokens encontrada en la posición 10886\n",
      "Fila con 1 tokens encontrada en la posición 10902\n",
      "Fila con 1 tokens encontrada en la posición 10938\n",
      "Fila con 1 tokens encontrada en la posición 10940\n",
      "Fila con 1 tokens encontrada en la posición 11027\n",
      "Fila con 1 tokens encontrada en la posición 11095\n",
      "Fila con 1 tokens encontrada en la posición 11096\n",
      "Fila con 1 tokens encontrada en la posición 11099\n",
      "Fila con 1 tokens encontrada en la posición 11155\n",
      "Fila con 1 tokens encontrada en la posición 11170\n",
      "Fila con 1 tokens encontrada en la posición 11214\n",
      "Fila con 1 tokens encontrada en la posición 11259\n",
      "Fila con 1 tokens encontrada en la posición 11363\n",
      "Fila con 1 tokens encontrada en la posición 11378\n",
      "Fila con 1 tokens encontrada en la posición 11389\n",
      "Fila con 1 tokens encontrada en la posición 11392\n",
      "Fila con 1 tokens encontrada en la posición 11460\n",
      "Fila con 1 tokens encontrada en la posición 11535\n",
      "Fila con 1 tokens encontrada en la posición 11565\n",
      "Fila con 1 tokens encontrada en la posición 11588\n",
      "Fila con 1 tokens encontrada en la posición 11630\n",
      "Fila con 1 tokens encontrada en la posición 11672\n",
      "Fila con 1 tokens encontrada en la posición 11674\n",
      "Fila con 1 tokens encontrada en la posición 11724\n",
      "Fila con 1 tokens encontrada en la posición 11773\n",
      "Fila con 1 tokens encontrada en la posición 11801\n",
      "Fila con 1 tokens encontrada en la posición 11815\n",
      "Fila con 1 tokens encontrada en la posición 11891\n",
      "Fila con 1 tokens encontrada en la posición 11968\n",
      "Fila con 1 tokens encontrada en la posición 12016\n",
      "Fila con 1 tokens encontrada en la posición 12074\n",
      "Fila con 1 tokens encontrada en la posición 12086\n",
      "Fila con 1 tokens encontrada en la posición 12090\n",
      "Fila con 1 tokens encontrada en la posición 12123\n",
      "Fila con 1 tokens encontrada en la posición 12204\n",
      "Fila con 1 tokens encontrada en la posición 12379\n",
      "Fila con 1 tokens encontrada en la posición 12414\n",
      "Fila con 1 tokens encontrada en la posición 12603\n",
      "Fila con 1 tokens encontrada en la posición 12611\n",
      "Fila con 1 tokens encontrada en la posición 12619\n",
      "Fila con 1 tokens encontrada en la posición 12622\n",
      "Fila con 1 tokens encontrada en la posición 12648\n",
      "Fila con 1 tokens encontrada en la posición 12653\n",
      "Fila con 1 tokens encontrada en la posición 12697\n",
      "Fila con 1 tokens encontrada en la posición 12710\n",
      "Fila con 1 tokens encontrada en la posición 12712\n",
      "Fila con 1 tokens encontrada en la posición 12734\n",
      "Número de filas encontradas en REF: 262\n"
     ]
    },
    {
     "data": {
      "text/plain": [
       "1"
      ]
     },
     "execution_count": 13,
     "metadata": {},
     "output_type": "execute_result"
    }
   ],
   "source": [
    "my $target_len_REF = 1;\n",
    "my $filas_encontradas_REF = numero_palabras($corpus_REF, $target_len_REF);\n",
    "print \"Número de filas encontradas en REF: $filas_encontradas_REF\\n\";"
   ]
  },
  {
   "cell_type": "code",
   "execution_count": 14,
   "id": "b951bad6",
   "metadata": {},
   "outputs": [],
   "source": [
    "sub caracteres_unicos {\n",
    "    my ($corpus) = @_;\n",
    "\n",
    "    my @matching_lineas;\n",
    "\n",
    "    for (my $i = 0; $i < scalar @$corpus; $i++) {\n",
    "        my $linea = $corpus->[$i];\n",
    "        if ($linea =~ /^(\\w\\s\\w\\s?\\w\\s?)+\\w$/) {\n",
    "            push @matching_lineas, { linea_numero => $i + 1, linea_contenido => $linea };\n",
    "        }\n",
    "    }\n",
    "\n",
    "    return @matching_lineas;\n",
    "}"
   ]
  },
  {
   "cell_type": "code",
   "execution_count": 15,
   "id": "b5d09cb4",
   "metadata": {},
   "outputs": [
    {
     "name": "stdout",
     "output_type": "stream",
     "text": [
      "Se encontró una fila con caracteres individuales separados por espacios en la fila 1018: t end\n",
      "Se encontró una fila con caracteres individuales separados por espacios en la fila 1279: 5 log uut\n",
      "Se encontró una fila con caracteres individuales separados por espacios en la fila 2844: k h h i\n",
      "Se encontró una fila con caracteres individuales separados por espacios en la fila 3853: o i a i j b j\n"
     ]
    }
   ],
   "source": [
    "my @caracteres_unicos_OCR = caracteres_unicos($corpus_OCR);\n",
    "\n",
    "foreach my $linea (@caracteres_unicos_OCR) {\n",
    "    my $linea_numero = $linea->{linea_numero};\n",
    "    my $linea_contenido = $linea->{linea_contenido};\n",
    "    print \"Se encontró una fila con caracteres individuales separados por espacios en la fila $linea_numero: $linea_contenido\\n\";\n",
    "}"
   ]
  },
  {
   "cell_type": "code",
   "execution_count": 16,
   "id": "4dcdbbdc",
   "metadata": {},
   "outputs": [
    {
     "name": "stdout",
     "output_type": "stream",
     "text": [
      "Se encontró una fila con caracteres individuales separados por espacios en la fila 1279: 5 log out\n",
      "Se encontró una fila con caracteres individuales separados por espacios en la fila 2844: j h h i\n",
      "Se encontró una fila con caracteres individuales separados por espacios en la fila 3853: o i a i j x j\n",
      "Se encontró una fila con caracteres individuales separados por espacios en la fila 5385: n nak n n i\n",
      "Se encontró una fila con caracteres individuales separados por espacios en la fila 12100: f 0 01\n"
     ]
    }
   ],
   "source": [
    "my @caracteres_unicos_REF = caracteres_unicos($corpus_REF);\n",
    "\n",
    "foreach my $linea (@caracteres_unicos_REF) {\n",
    "    my $linea_numero = $linea->{linea_numero};\n",
    "    my $linea_contenido = $linea->{linea_contenido};\n",
    "    print \"Se encontró una fila con caracteres individuales separados por espacios en la fila $linea_numero: $linea_contenido\\n\";\n",
    "}"
   ]
  },
  {
   "cell_type": "markdown",
   "id": "75134375",
   "metadata": {},
   "source": [
    "### 1.3.4 Eliminación de filas vacias"
   ]
  },
  {
   "cell_type": "code",
   "execution_count": 17,
   "id": "aee9abf6",
   "metadata": {},
   "outputs": [],
   "source": [
    "sub comparar_filtrar {\n",
    "    my ($corpus_OCR, $corpus_REF) = @_;\n",
    "\n",
    "    my @corpus_OCR = @{$corpus_OCR};\n",
    "    my @corpus_REF = @{$corpus_REF};\n",
    "\n",
    "    my @filtrar_corpus_OCR;\n",
    "    my @filtrar_corpus_REF;\n",
    "\n",
    "    for my $i (0 .. $#corpus_OCR) {\n",
    "        my $linea_OCR = $corpus_OCR[$i];\n",
    "        my $linea_REF = $corpus_REF[$i];\n",
    "\n",
    "        chomp $linea_OCR;\n",
    "        chomp $linea_REF;\n",
    "\n",
    "        next if $linea_OCR =~ /^(\\w\\s\\w\\s?\\w\\s?)+\\w$/ || $linea_REF =~ /^(\\w\\s\\w\\s?\\w\\s?)+\\w$/;\n",
    "        next if $linea_OCR =~ /^\\s*$/ && $linea_REF =~ /^\\s*$/;\n",
    "        next if $linea_OCR =~ /^\\w+$/ && $linea_REF =~ /^\\w+$/;\n",
    "\n",
    "        if ($linea_OCR =~ /^\\s*$/ && $linea_REF =~ /^\\w+$/) {\n",
    "            next;\n",
    "        }\n",
    "\n",
    "        if ($linea_OCR =~ /^\\w+$/ && $linea_REF =~ /^\\s*$/) {\n",
    "            next;\n",
    "        }\n",
    "\n",
    "        push @filtrar_corpus_OCR, $linea_OCR;\n",
    "        push @filtrar_corpus_REF, $linea_REF;\n",
    "    }\n",
    "\n",
    "    return (\\@filtrar_corpus_OCR, \\@filtrar_corpus_REF);\n",
    "}"
   ]
  },
  {
   "cell_type": "code",
   "execution_count": 18,
   "id": "0aa9ba1a",
   "metadata": {},
   "outputs": [
    {
     "data": {
      "text/plain": [
       "ARRAY(0xcd77ef8)ARRAY(0xcd77e80)"
      ]
     },
     "execution_count": 18,
     "metadata": {},
     "output_type": "execute_result"
    }
   ],
   "source": [
    "($corpus_OCR, $corpus_REF) = comparar_filtrar($corpus_OCR, $corpus_REF);"
   ]
  },
  {
   "cell_type": "markdown",
   "id": "d625b424",
   "metadata": {},
   "source": [
    "### 1.3.5 Eliminar oraciones que tengan una sola palabra"
   ]
  },
  {
   "cell_type": "code",
   "execution_count": 19,
   "id": "31b056ed",
   "metadata": {},
   "outputs": [],
   "source": [
    "sub contador_palabras {\n",
    "    my ($corpus_OCR, $corpus_REF) = @_;\n",
    "\n",
    "    my @filtrar_OCR;\n",
    "    my @filtrar_REF;\n",
    "\n",
    "    for (my $i = 0; $i < scalar @$corpus_OCR; $i++) {\n",
    "        my $linea_OCR = $corpus_OCR->[$i];\n",
    "        my $linea_REF = $corpus_REF->[$i];\n",
    "\n",
    "        my @palabras_OCR = split /\\s+/, $linea_OCR;\n",
    "        my @palabras_REF = split /\\s+/, $linea_REF;\n",
    "\n",
    "        if ((scalar @palabras_OCR<2 || scalar @palabras_REF<2)) {\n",
    "            next;\n",
    "        }\n",
    "\n",
    "        push @filtrar_OCR, $linea_OCR;\n",
    "        push @filtrar_REF, $linea_REF;\n",
    "    }\n",
    "\n",
    "    return (\\@filtrar_OCR, \\@filtrar_REF);\n",
    "}\n"
   ]
  },
  {
   "cell_type": "code",
   "execution_count": 20,
   "id": "6c553852",
   "metadata": {},
   "outputs": [
    {
     "data": {
      "text/plain": [
       "ARRAY(0xc9636e8)ARRAY(0xc963700)"
      ]
     },
     "execution_count": 20,
     "metadata": {},
     "output_type": "execute_result"
    }
   ],
   "source": [
    "($corpus_OCR, $corpus_REF) = contador_palabras($corpus_OCR, $corpus_REF);"
   ]
  },
  {
   "cell_type": "code",
   "execution_count": 21,
   "id": "9eb5f41e",
   "metadata": {},
   "outputs": [
    {
     "data": {
      "text/plain": [
       "5305735984975074995696587997998837306604673642552242011841631371009210677827559665464695844595040334144484343395048293125403334252320252516281818211526131110131320191710127412966485953141111211"
      ]
     },
     "execution_count": 21,
     "metadata": {},
     "output_type": "execute_result"
    }
   ],
   "source": [
    "my %contador_frecuencia_palabras_REF = frecuencia_palabras_por_fila($corpus_REF);\n",
    "my %contador_frecuencia_palabras_OCR = frecuencia_palabras_por_fila($corpus_OCR);\n",
    "\n",
    "my @len_REF = sort { $a <=> $b } keys %contador_frecuencia_palabras_REF;\n",
    "my @frecuencias_REF = @contador_frecuencia_palabras_REF{@len_REF};\n",
    "\n",
    "my @len_OCR = sort { $a <=> $b } keys %contador_frecuencia_palabras_OCR;\n",
    "my @frecuencias_OCR = @contador_frecuencia_palabras_OCR{@len_OCR};"
   ]
  },
  {
   "cell_type": "code",
   "execution_count": 22,
   "id": "94f9b2b7",
   "metadata": {},
   "outputs": [
    {
     "data": {
      "text/html": [
       "<script>\n",
       "//# sourceURL=iperl-devel-plugin-chart-plotly.js\n",
       "            $('#Plotly').each(function(i, e) { $(e).attr('id', 'plotly') });\n",
       "\n",
       "            if (!window.Plotly) {\n",
       "                requirejs.config({\n",
       "                  paths: {\n",
       "                    plotly: ['https://cdn.plot.ly/plotly-latest.min']},\n",
       "                });\n",
       "                window.Plotly = {\n",
       "react : function (div, data, layout, config){\n",
       "                    require(['plotly'], function(plotly) {\n",
       "                      window.Plotly=plotly;\n",
       "Plotly.react(div, data, layout, config);                    });\n",
       "                  }\n",
       "                }\n",
       "            }\n",
       "</script>\n",
       "<div id=\"0bdab6f8-b29a-11ee-8f6e-ec423b3f2090\"></div>\n",
       "\n",
       "<script>\n",
       "Plotly.react(document.getElementById('0bdab6f8-b29a-11ee-8f6e-ec423b3f2090'),[{\"type\":\"bar\",\"y\":[530,573,598,497,507,499,569,658,799,799,883,730,660,467,364,255,224,201,184,163,137,100,92,106,77,82,75,59,66,54,64,69,58,44,59,50,40,33,41,44,48,43,43,39,50,48,29,31,25,40,33,34,25,23,20,25,25,16,28,18,18,21,15,26,13,11,10,13,13,20,19,17,10,12,7,4,12,9,6,6,4,8,5,9,5,3,1,4,1,1,1,1,2,1,1],\"x\":[\"2\",\"3\",\"4\",\"5\",\"6\",\"7\",\"8\",\"9\",\"10\",\"11\",\"12\",\"13\",\"14\",\"15\",\"16\",\"17\",\"18\",\"19\",\"20\",\"21\",\"22\",\"23\",\"24\",\"25\",\"26\",\"27\",\"28\",\"29\",\"30\",\"31\",\"32\",\"33\",\"34\",\"35\",\"36\",\"37\",\"38\",\"39\",\"40\",\"41\",\"42\",\"43\",\"44\",\"45\",\"46\",\"47\",\"48\",\"49\",\"50\",\"51\",\"52\",\"53\",\"54\",\"55\",\"56\",\"57\",\"58\",\"59\",\"60\",\"61\",\"62\",\"63\",\"64\",\"65\",\"66\",\"67\",\"68\",\"69\",\"70\",\"71\",\"72\",\"73\",\"74\",\"75\",\"76\",\"77\",\"78\",\"79\",\"80\",\"81\",\"82\",\"83\",\"84\",\"85\",\"86\",\"87\",\"88\",\"89\",\"91\",\"92\",\"93\",\"94\",\"97\",\"100\",\"103\"],\"name\":\"Frecuencia OCR\"}] ,{\"xaxis\":{\"title\":\"Número de palabras\"},\"yaxis\":{\"title\":\"Frecuencia\"},\"title\":{\"font\":{\"size\":30,\"family\":\"Arial\"},\"text\":\"Distribución de frecuencias de número de palabras de OCR\"}} );\n",
       "</script>\n"
      ]
     },
     "metadata": {},
     "output_type": "display_data"
    }
   ],
   "source": [
    "my $plot_OCR = histograma(\n",
    "    'Distribución de frecuencias de número de palabras de OCR',\n",
    "    \\@len_OCR,\n",
    "    \\@frecuencias_OCR,\n",
    "    'Frecuencia OCR'\n",
    ");"
   ]
  },
  {
   "cell_type": "code",
   "execution_count": 23,
   "id": "11696d60",
   "metadata": {
    "scrolled": false
   },
   "outputs": [
    {
     "data": {
      "text/html": [
       "<script>\n",
       "//# sourceURL=iperl-devel-plugin-chart-plotly.js\n",
       "            $('#Plotly').each(function(i, e) { $(e).attr('id', 'plotly') });\n",
       "\n",
       "            if (!window.Plotly) {\n",
       "                requirejs.config({\n",
       "                  paths: {\n",
       "                    plotly: ['https://cdn.plot.ly/plotly-latest.min']},\n",
       "                });\n",
       "                window.Plotly = {\n",
       "react : function (div, data, layout, config){\n",
       "                    require(['plotly'], function(plotly) {\n",
       "                      window.Plotly=plotly;\n",
       "Plotly.react(div, data, layout, config);                    });\n",
       "                  }\n",
       "                }\n",
       "            }\n",
       "</script>\n",
       "<div id=\"0bdb46c1-b29a-11ee-8f6e-e47509eea281\"></div>\n",
       "\n",
       "<script>\n",
       "Plotly.react(document.getElementById('0bdb46c1-b29a-11ee-8f6e-e47509eea281'),[{\"name\":\"Frecuencia REF\",\"type\":\"bar\",\"x\":[\"2\",\"3\",\"4\",\"5\",\"6\",\"7\",\"8\",\"9\",\"10\",\"11\",\"12\",\"13\",\"14\",\"15\",\"16\",\"17\",\"18\",\"19\",\"20\",\"21\",\"22\",\"23\",\"24\",\"25\",\"26\",\"27\",\"28\",\"29\",\"30\",\"31\",\"32\",\"33\",\"34\",\"35\",\"36\",\"37\",\"38\",\"39\",\"40\",\"41\",\"42\",\"43\",\"44\",\"45\",\"46\",\"47\",\"48\",\"49\",\"50\",\"51\",\"52\",\"53\",\"54\",\"55\",\"56\",\"57\",\"58\",\"59\",\"60\",\"61\",\"62\",\"63\",\"64\",\"65\",\"66\",\"67\",\"68\",\"69\",\"70\",\"71\",\"72\",\"73\",\"74\",\"75\",\"76\",\"77\",\"78\",\"79\",\"80\",\"81\",\"82\",\"83\",\"84\",\"85\",\"86\",\"87\",\"88\",\"90\",\"91\",\"92\",\"93\",\"94\",\"97\",\"98\",\"100\",\"103\"],\"y\":[529,574,602,493,500,513,562,661,790,826,858,733,648,501,339,256,226,208,180,154,146,90,100,106,80,73,75,62,66,53,73,64,56,53,53,46,38,36,50,38,38,53,41,41,52,42,32,31,30,39,32,29,23,28,18,25,27,21,20,21,18,20,16,25,12,9,14,10,18,21,14,16,12,11,9,4,11,9,7,4,6,7,8,6,7,2,1,2,2,1,1,1,1,1,1,1]}] ,{\"title\":{\"text\":\"Distribución de frecuencias de número de palabras de REF\",\"font\":{\"family\":\"Arial\",\"size\":30}},\"xaxis\":{\"title\":\"Número de palabras\"},\"yaxis\":{\"title\":\"Frecuencia\"}} );\n",
       "</script>\n"
      ]
     },
     "metadata": {},
     "output_type": "display_data"
    }
   ],
   "source": [
    "my $plot_REF = histograma(\n",
    "    'Distribución de frecuencias de número de palabras de REF',\n",
    "    \\@len_REF,\n",
    "    \\@frecuencias_REF,\n",
    "    'Frecuencia REF'\n",
    ");"
   ]
  },
  {
   "cell_type": "code",
   "execution_count": 24,
   "id": "b939b290",
   "metadata": {
    "scrolled": true
   },
   "outputs": [],
   "source": [
    "# for my $let (0 .. 100) {\n",
    "#     print dump($corpus_OCR->[$let]).\"\\n\";\n",
    "# }"
   ]
  },
  {
   "cell_type": "markdown",
   "id": "0edf2d4d",
   "metadata": {},
   "source": [
    "### 1.3.6 Contar el número de caracteres por palabra"
   ]
  },
  {
   "cell_type": "code",
   "execution_count": 25,
   "id": "4d0a521d",
   "metadata": {},
   "outputs": [],
   "source": [
    "sub contar_caracteres_por_palabra {\n",
    "    my ($corpus, $top_n) = @_;\n",
    "    my %palabra_info;\n",
    "\n",
    "    for my $fila (0 .. $#{$corpus}) {\n",
    "        my @palabras = split(\" \", $corpus->[$fila]);\n",
    "        for my $palabra (@palabras) {\n",
    "            $palabra =~ s/^\\s+|\\s+$//g;  # Elimina espacios en blanco al principio y al final\n",
    "            my $longitud = length($palabra);\n",
    "            push @{$palabra_info{$palabra}}, [$longitud, $fila + 1];\n",
    "        }\n",
    "    }\n",
    "\n",
    "    # Ordenar el resultado por longitud de caracteres en orden descendente\n",
    "    my @resultado_ordenado = sort { length($b) <=> length($a) } keys %palabra_info;\n",
    "\n",
    "    # Mostrar las palabras más largas\n",
    "    for my $i (0 .. $top_n - 1) {\n",
    "        last if $i >= @resultado_ordenado;\n",
    "        my $palabra = $resultado_ordenado[$i];\n",
    "        my $info = $palabra_info{$palabra};\n",
    "        my $fila_maxima = (sort { $b->[0] <=> $a->[0] } @$info)[0];\n",
    "        print \"Palabra: $palabra, Longitud: $fila_maxima->[0], Fila: $fila_maxima->[1]\\n\";\n",
    "    }\n",
    "}"
   ]
  },
  {
   "cell_type": "code",
   "execution_count": 26,
   "id": "7aeb75cd",
   "metadata": {
    "scrolled": true
   },
   "outputs": [
    {
     "name": "stdout",
     "output_type": "stream",
     "text": [
      "Palabra: d73jds8f73jkr9d8sufv2br8sd9fy92nr9f80u23r97fhse, Longitud: 47, Fila: 2605\n",
      "Palabra: cc52e06b490e0dc2482b345aa5d0d65fae931095, Longitud: 40, Fila: 9459\n",
      "Palabra: 86013bc11247d2e58d04bf52ee5462a927003f58, Longitud: 40, Fila: 11528\n",
      "Palabra: b9157ce933c79a4559d2aa9ff3372668cce48de7, Longitud: 40, Fila: 9450\n",
      "Palabra: scrollstobottomonkeybordbeginsediting, Longitud: 37, Fila: 6974\n",
      "Palabra: segmentedpagertabstripviewcontroller, Longitud: 36, Fila: 12059\n",
      "Palabra: buttonbarpagertabstripviewcontroller, Longitud: 36, Fila: 12059\n",
      "Palabra: rawreadunpackscoalsescedinputrecords, Longitud: 36, Fila: 7187\n",
      "Palabra: getmodifierstatusresistancestacking, Longitud: 35, Fila: 9836\n",
      "Palabra: cborprettyindicateindeterminelength, Longitud: 35, Fila: 5441\n"
     ]
    }
   ],
   "source": [
    "contar_caracteres_por_palabra($corpus_OCR, 10);"
   ]
  },
  {
   "cell_type": "code",
   "execution_count": 27,
   "id": "f5156edb",
   "metadata": {},
   "outputs": [
    {
     "data": {
      "text/plain": [
       "1"
      ]
     },
     "execution_count": 27,
     "metadata": {},
     "output_type": "execute_result"
    }
   ],
   "source": [
    "open(my $archivo_OCR, '>:encoding(UTF-8)', '../../TesisModelo1/0_Corpus/1_Testeo/corpus_OCR_preprocesada.txt') or die \"No se puede abrir el archivo corpus_OCR_preprocesada.txt: $!\";\n",
    "foreach my $linea (@{$corpus_OCR}) {\n",
    "    print $archivo_OCR $linea . \"\\n\";\n",
    "}\n",
    "close($archivo_OCR);\n",
    "\n",
    "open(my $archivo_REF, '>:encoding(UTF-8)', '../../TesisModelo1/0_Corpus/1_Testeo/corpus_REF_preprocesada.txt') or die \"No se puede abrir el archivo corpus_REF_preprocesada.txt: $!\";\n",
    "foreach my $linea (@{$corpus_REF}) {\n",
    "    print $archivo_REF $linea . \"\\n\";\n",
    "}\n",
    "close($archivo_REF);"
   ]
  },
  {
   "cell_type": "code",
   "execution_count": null,
   "id": "42e3cb8a",
   "metadata": {},
   "outputs": [],
   "source": []
  }
 ],
 "metadata": {
  "kernelspec": {
   "display_name": "IPerl 0.011",
   "language": "perl",
   "name": "iperl"
  },
  "language_info": {
   "file_extension": ".pl",
   "mimetype": "text/x-perl",
   "name": "perl",
   "version": "5.32.1"
  },
  "widgets": {
   "application/vnd.jupyter.widget-state+json": {
    "state": {},
    "version_major": 2,
    "version_minor": 0
   }
  }
 },
 "nbformat": 4,
 "nbformat_minor": 5
}
